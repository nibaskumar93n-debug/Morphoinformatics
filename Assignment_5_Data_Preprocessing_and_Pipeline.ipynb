{
  "nbformat": 4,
  "nbformat_minor": 0,
  "metadata": {
    "colab": {
      "provenance": [],
      "include_colab_link": true
    },
    "kernelspec": {
      "name": "python3",
      "display_name": "Python 3"
    },
    "language_info": {
      "name": "python"
    }
  },
  "cells": [
    {
      "cell_type": "markdown",
      "metadata": {
        "id": "view-in-github",
        "colab_type": "text"
      },
      "source": [
        "<a href=\"https://colab.research.google.com/github/nibaskumar93n-debug/Morphoinformatics/blob/main/Assignment_5_Data_Preprocessing_and_Pipeline.ipynb\" target=\"_parent\"><img src=\"https://colab.research.google.com/assets/colab-badge.svg\" alt=\"Open In Colab\"/></a>"
      ]
    },
    {
      "cell_type": "code",
      "execution_count": 16,
      "metadata": {
        "id": "kxzHrZ-S1J5-",
        "colab": {
          "base_uri": "https://localhost:8080/"
        },
        "outputId": "fb88c947-652c-4d21-f43c-068ef1041f70"
      },
      "outputs": [
        {
          "output_type": "stream",
          "name": "stdout",
          "text": [
            "<class 'pandas.core.frame.DataFrame'>\n",
            "RangeIndex: 545 entries, 0 to 544\n",
            "Data columns (total 13 columns):\n",
            " #   Column            Non-Null Count  Dtype \n",
            "---  ------            --------------  ----- \n",
            " 0   price             545 non-null    int64 \n",
            " 1   area              545 non-null    int64 \n",
            " 2   bedrooms          545 non-null    int64 \n",
            " 3   bathrooms         545 non-null    int64 \n",
            " 4   stories           545 non-null    int64 \n",
            " 5   mainroad          545 non-null    object\n",
            " 6   guestroom         545 non-null    object\n",
            " 7   basement          545 non-null    object\n",
            " 8   hotwaterheating   545 non-null    object\n",
            " 9   airconditioning   545 non-null    object\n",
            " 10  parking           545 non-null    int64 \n",
            " 11  prefarea          545 non-null    object\n",
            " 12  furnishingstatus  545 non-null    object\n",
            "dtypes: int64(6), object(7)\n",
            "memory usage: 55.5+ KB\n",
            "None\n",
            "Number of houses:545\n",
            "First three houses are:\n",
            "      price  area  bedrooms  bathrooms  stories mainroad guestroom basement  \\\n",
            "0  13300000  7420         4          2        3      yes        no       no   \n",
            "1  12250000  8960         4          4        4      yes        no       no   \n",
            "2  12250000  9960         3          2        2      yes        no      yes   \n",
            "\n",
            "  hotwaterheating airconditioning  parking prefarea furnishingstatus  \n",
            "0              no             yes        2      yes        furnished  \n",
            "1              no             yes        3       no        furnished  \n",
            "2              no              no        2      yes   semi-furnished  \n"
          ]
        }
      ],
      "source": [
        "#Load the Data\n",
        "import pandas as pd\n",
        "import numpy as np\n",
        "from sklearn.model_selection import train_test_split\n",
        "from sklearn.preprocessing import StandardScaler\n",
        "\n",
        "# TODO: Load the housing data\n",
        "df = pd.read_csv('Housing.csv')\n",
        "print(df.info())\n",
        "# TODO: How many houses are there?\n",
        "print(f\"Number of houses:{len(df)}\")  # Fill this\n",
        "\n",
        "# TODO: Show first 3 houses\n",
        "# Your code here\n",
        "print(\"First three houses are:\")\n",
        "print(df.head(3))"
      ]
    },
    {
      "cell_type": "code",
      "source": [
        "# Look at Columns\n",
        "# TODO: Show all column names\n",
        "print(f\" The columnns are:\")\n",
        "print(df.columns)\n",
        "# Your code here\n",
        "\n",
        "# TODO: Show data types of columns\n",
        "print(\"Data types:\")\n",
        "print(df.dtypes)"
      ],
      "metadata": {
        "id": "jY6xciSB1fGX",
        "colab": {
          "base_uri": "https://localhost:8080/"
        },
        "outputId": "bf74abc9-0a70-4987-d112-bb2e63043200"
      },
      "execution_count": 17,
      "outputs": [
        {
          "output_type": "stream",
          "name": "stdout",
          "text": [
            " The columnns are:\n",
            "Index(['price', 'area', 'bedrooms', 'bathrooms', 'stories', 'mainroad',\n",
            "       'guestroom', 'basement', 'hotwaterheating', 'airconditioning',\n",
            "       'parking', 'prefarea', 'furnishingstatus'],\n",
            "      dtype='object')\n",
            "Data types:\n",
            "price                int64\n",
            "area                 int64\n",
            "bedrooms             int64\n",
            "bathrooms            int64\n",
            "stories              int64\n",
            "mainroad            object\n",
            "guestroom           object\n",
            "basement            object\n",
            "hotwaterheating     object\n",
            "airconditioning     object\n",
            "parking              int64\n",
            "prefarea            object\n",
            "furnishingstatus    object\n",
            "dtype: object\n"
          ]
        }
      ]
    },
    {
      "cell_type": "code",
      "source": [
        "#Convert Yes/No to 1/0\n",
        "# Check what's in our data\n",
        "print(\"Current mainroad values:\", df['mainroad'].head())\n",
        "# Shows: yes, no, yes, yes, no\n",
        "from sklearn.preprocessing import LabelEncoder\n",
        "\n",
        "label_encoder = LabelEncoder()\n",
        "df['mainroad_label'] = label_encoder.fit_transform(df['mainroad'])\n",
        "print(\"\\nAfter Label Encoding 'mainroad':\")\n",
        "print(df[['mainroad', 'mainroad_label']])\n",
        "print(df[['mainroad', 'mainroad_label']].head())\n",
        "# no = 0, yes = 1\n",
        "\n"
      ],
      "metadata": {
        "id": "MwB1ZgVl1plX",
        "colab": {
          "base_uri": "https://localhost:8080/"
        },
        "outputId": "4363d73c-8560-4882-b9b6-070d39b1de8f"
      },
      "execution_count": 18,
      "outputs": [
        {
          "output_type": "stream",
          "name": "stdout",
          "text": [
            "Current mainroad values: 0    yes\n",
            "1    yes\n",
            "2    yes\n",
            "3    yes\n",
            "4    yes\n",
            "Name: mainroad, dtype: object\n",
            "\n",
            "After Label Encoding 'mainroad':\n",
            "    mainroad  mainroad_label\n",
            "0        yes               1\n",
            "1        yes               1\n",
            "2        yes               1\n",
            "3        yes               1\n",
            "4        yes               1\n",
            "..       ...             ...\n",
            "540      yes               1\n",
            "541       no               0\n",
            "542      yes               1\n",
            "543       no               0\n",
            "544      yes               1\n",
            "\n",
            "[545 rows x 2 columns]\n",
            "  mainroad  mainroad_label\n",
            "0      yes               1\n",
            "1      yes               1\n",
            "2      yes               1\n",
            "3      yes               1\n",
            "4      yes               1\n"
          ]
        }
      ]
    },
    {
      "cell_type": "code",
      "source": [
        "#Apply StandardScaler\n",
        "# Area is huge (1650-13300), Bedrooms is small (1-6)!\n",
        "#Your Code here\n",
        "from sklearn.preprocessing import StandardScaler\n",
        "X = df[['area', 'bedrooms']]\n",
        "scaler = StandardScaler()\n",
        "X_scaled = scaler.fit_transform(X)\n",
        "X_scaled_df = pd.DataFrame(X_scaled, columns=['area_scaled', 'bedrooms_scaled'])\n",
        "\n",
        "print(X_scaled_df.head())"
      ],
      "metadata": {
        "id": "ORsVWo8E18y1",
        "colab": {
          "base_uri": "https://localhost:8080/"
        },
        "outputId": "26ad4092-29a2-4dea-ac79-33b7e2c9c8f7"
      },
      "execution_count": 19,
      "outputs": [
        {
          "output_type": "stream",
          "name": "stdout",
          "text": [
            "   area_scaled  bedrooms_scaled\n",
            "0     1.046726         1.403419\n",
            "1     1.757010         1.403419\n",
            "2     2.218232         0.047278\n",
            "3     1.083624         1.403419\n",
            "4     1.046726         1.403419\n"
          ]
        }
      ]
    },
    {
      "cell_type": "code",
      "source": [
        "yes_no_cols = ['mainroad', 'guestroom', 'basement',\n",
        "               'hotwaterheating', 'airconditioning', 'prefarea']\n",
        "\n",
        "for col in yes_no_cols:\n",
        "    df[col] = df[col].map({'no': 0, 'yes': 1})\n",
        "print(df[yes_no_cols].head())\n",
        "df = pd.get_dummies(df, columns=['furnishingstatus'], drop_first=True)\n",
        "print(df.head())"
      ],
      "metadata": {
        "colab": {
          "base_uri": "https://localhost:8080/"
        },
        "id": "9pSxi8gEdT-_",
        "outputId": "4d5275b9-c232-45cb-cab5-834fecdb2fd6"
      },
      "execution_count": 20,
      "outputs": [
        {
          "output_type": "stream",
          "name": "stdout",
          "text": [
            "   mainroad  guestroom  basement  hotwaterheating  airconditioning  prefarea\n",
            "0         1          0         0                0                1         1\n",
            "1         1          0         0                0                1         0\n",
            "2         1          0         1                0                0         1\n",
            "3         1          0         1                0                1         1\n",
            "4         1          1         1                0                1         0\n",
            "      price  area  bedrooms  bathrooms  stories  mainroad  guestroom  \\\n",
            "0  13300000  7420         4          2        3         1          0   \n",
            "1  12250000  8960         4          4        4         1          0   \n",
            "2  12250000  9960         3          2        2         1          0   \n",
            "3  12215000  7500         4          2        2         1          0   \n",
            "4  11410000  7420         4          1        2         1          1   \n",
            "\n",
            "   basement  hotwaterheating  airconditioning  parking  prefarea  \\\n",
            "0         0                0                1        2         1   \n",
            "1         0                0                1        3         0   \n",
            "2         1                0                0        2         1   \n",
            "3         1                0                1        3         1   \n",
            "4         1                0                1        2         0   \n",
            "\n",
            "   mainroad_label  furnishingstatus_semi-furnished  \\\n",
            "0               1                            False   \n",
            "1               1                            False   \n",
            "2               1                             True   \n",
            "3               1                            False   \n",
            "4               1                            False   \n",
            "\n",
            "   furnishingstatus_unfurnished  \n",
            "0                         False  \n",
            "1                         False  \n",
            "2                         False  \n",
            "3                         False  \n",
            "4                         False  \n"
          ]
        }
      ]
    },
    {
      "cell_type": "code",
      "source": [
        "\n",
        "if 'mainroad_label' in df.columns:\n",
        "    df = df.drop(columns=['mainroad_label'])\n",
        "dummy_cols = ['furnishingstatus_semi-furnished', 'furnishingstatus_unfurnished']\n",
        "df[dummy_cols] = df[dummy_cols].astype(int)\n",
        "\n",
        "print(df.head())\n"
      ],
      "metadata": {
        "colab": {
          "base_uri": "https://localhost:8080/"
        },
        "id": "LgBIXYWkDWss",
        "outputId": "1c15ee55-a15c-449f-c5b5-3f1e38c5687f"
      },
      "execution_count": 21,
      "outputs": [
        {
          "output_type": "stream",
          "name": "stdout",
          "text": [
            "      price  area  bedrooms  bathrooms  stories  mainroad  guestroom  \\\n",
            "0  13300000  7420         4          2        3         1          0   \n",
            "1  12250000  8960         4          4        4         1          0   \n",
            "2  12250000  9960         3          2        2         1          0   \n",
            "3  12215000  7500         4          2        2         1          0   \n",
            "4  11410000  7420         4          1        2         1          1   \n",
            "\n",
            "   basement  hotwaterheating  airconditioning  parking  prefarea  \\\n",
            "0         0                0                1        2         1   \n",
            "1         0                0                1        3         0   \n",
            "2         1                0                0        2         1   \n",
            "3         1                0                1        3         1   \n",
            "4         1                0                1        2         0   \n",
            "\n",
            "   furnishingstatus_semi-furnished  furnishingstatus_unfurnished  \n",
            "0                                0                             0  \n",
            "1                                0                             0  \n",
            "2                                1                             0  \n",
            "3                                0                             0  \n",
            "4                                0                             0  \n"
          ]
        }
      ]
    },
    {
      "cell_type": "code",
      "source": [
        "# Split into Train and Test\n",
        "# TODO: Split - 80% train, 20% test\n",
        "# Separate input (X) and output (y)\n",
        "X = df.drop('price', axis=1)\n",
        "y = df['price']\n",
        "\n",
        "print(f\"\\nX has all house information ({X.shape[1]} columns)\")\n",
        "print(f\"y has price ({y.shape[0]} rows)\")\n",
        "\n",
        "X_train, X_test, y_train, y_test = train_test_split(\n",
        "    X, y,\n",
        "    test_size=0.2,\n",
        "    random_state=20\n",
        ")\n",
        "\n",
        "print(f\"\\nWe will train with: {len(X_train)} houses\")\n",
        "print(f\"We will test with: {len(X_test)} houses\")"
      ],
      "metadata": {
        "id": "CGWFD9Do1w2J",
        "colab": {
          "base_uri": "https://localhost:8080/"
        },
        "outputId": "2de9bf65-2eaf-42e4-fff0-645e083dadcd"
      },
      "execution_count": 22,
      "outputs": [
        {
          "output_type": "stream",
          "name": "stdout",
          "text": [
            "\n",
            "X has all house information (13 columns)\n",
            "y has price (545 rows)\n",
            "\n",
            "We will train with: 436 houses\n",
            "We will test with: 109 houses\n"
          ]
        }
      ]
    },
    {
      "cell_type": "code",
      "source": [
        "from sklearn.preprocessing import StandardScaler\n",
        "\n",
        "continuous_cols = ['area', 'bedrooms', 'bathrooms', 'stories', 'parking']\n",
        "\n",
        "scaler = StandardScaler()\n",
        "\n",
        "X_train[continuous_cols] = scaler.fit_transform(X_train[continuous_cols])\n",
        "X_test[continuous_cols] = scaler.transform(X_test[continuous_cols])\n",
        "\n",
        "print(\"\\nScaled continuous columns in training set:\")\n",
        "print(X_train[continuous_cols].head())\n",
        "\n",
        "\n"
      ],
      "metadata": {
        "colab": {
          "base_uri": "https://localhost:8080/"
        },
        "id": "t2-0s_RvqfuB",
        "outputId": "175b80d2-4c49-4f81-ac6d-1e22db599f78"
      },
      "execution_count": 23,
      "outputs": [
        {
          "output_type": "stream",
          "name": "stdout",
          "text": [
            "\n",
            "Scaled continuous columns in training set:\n",
            "         area  bedrooms  bathrooms   stories   parking\n",
            "370 -0.400969 -1.333921  -0.562749 -0.920575  1.556577\n",
            "438 -0.300229 -1.333921  -0.562749 -0.920575 -0.783656\n",
            "528 -0.542921 -2.712095  -0.562749 -0.920575 -0.783656\n",
            "119  0.853700  0.044253  -0.562749 -0.920575  1.556577\n",
            "7    5.057298  2.800602   3.362989  0.259927 -0.783656\n"
          ]
        }
      ]
    },
    {
      "cell_type": "code",
      "source": [
        "#train and test model\n",
        "#your code here\n",
        "from sklearn.linear_model import LinearRegression\n",
        "\n",
        "model = LinearRegression()\n",
        "model.fit(X_train, y_train)\n",
        "print(\"Model trained!\")\n",
        "\n",
        "train_score = model.score(X_train, y_train)\n",
        "print(f\"Training accuracy: {train_score:.1%}\")\n",
        "\n",
        "test_score = model.score(X_test, y_test)\n",
        "print(f\"Test accuracy: {test_score:.1%}\")"
      ],
      "metadata": {
        "id": "khBlvU-f2QnW",
        "colab": {
          "base_uri": "https://localhost:8080/"
        },
        "outputId": "c897c48e-1640-4f38-8663-c5de9003304d"
      },
      "execution_count": 24,
      "outputs": [
        {
          "output_type": "stream",
          "name": "stdout",
          "text": [
            "Model trained!\n",
            "Training accuracy: 67.8%\n",
            "Test accuracy: 67.6%\n"
          ]
        }
      ]
    },
    {
      "cell_type": "code",
      "source": [
        "# Predict a House Price\n",
        "# New house details:\n",
        "# area=5000, bedrooms=3, bathrooms=2, stories=2,\n",
        "# mainroad=yes, guestroom=no, basement=yes,\n",
        "# hotwaterheating=no, airconditioning=yes,\n",
        "# parking=2, prefarea=yes, furnishingstatus=furnished\n",
        "#your code here\n",
        "\n",
        "new_house = {\n",
        "    'area': 5000,\n",
        "    'bedrooms': 3,\n",
        "    'bathrooms': 2,\n",
        "    'stories': 2,\n",
        "    'mainroad': 1,\n",
        "    'guestroom': 0,\n",
        "    'basement': 1,\n",
        "    'hotwaterheating': 0,\n",
        "    'airconditioning': 1,\n",
        "    'parking': 2,\n",
        "    'prefarea': 1,\n",
        "    'furnishingstatus_semi-furnished': 0,\n",
        "    'furnishingstatus_unfurnished': 0\n",
        "}\n",
        "\n",
        "new_house_df = pd.DataFrame([new_house])\n",
        "\n",
        "new_house_df = new_house_df[X_train.columns]\n",
        "predicted_price = model.predict(new_house_df)[0]\n",
        "print(f\"Predicted house price: {predicted_price:.2f}\")\n"
      ],
      "metadata": {
        "id": "no5CjmoK2aHb",
        "colab": {
          "base_uri": "https://localhost:8080/"
        },
        "outputId": "50cf1c84-3414-4d29-b385-b689268f5844"
      },
      "execution_count": 27,
      "outputs": [
        {
          "output_type": "stream",
          "name": "stdout",
          "text": [
            "Predicted house price: 2660503578.94\n"
          ]
        }
      ]
    }
  ]
}