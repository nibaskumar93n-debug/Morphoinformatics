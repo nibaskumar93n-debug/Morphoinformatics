{
  "nbformat": 4,
  "nbformat_minor": 0,
  "metadata": {
    "colab": {
      "provenance": [],
      "toc_visible": true,
      "authorship_tag": "ABX9TyNr2xFuOvPM/JSAFitiC2S6",
      "include_colab_link": true
    },
    "kernelspec": {
      "name": "python3",
      "display_name": "Python 3"
    },
    "language_info": {
      "name": "python"
    }
  },
  "cells": [
    {
      "cell_type": "markdown",
      "metadata": {
        "id": "view-in-github",
        "colab_type": "text"
      },
      "source": [
        "<a href=\"https://colab.research.google.com/github/nibaskumar93n-debug/Morphoinformatics/blob/main/introduction_morph.ipynb\" target=\"_parent\"><img src=\"https://colab.research.google.com/assets/colab-badge.svg\" alt=\"Open In Colab\"/></a>"
      ]
    },
    {
      "cell_type": "code",
      "execution_count": null,
      "metadata": {
        "colab": {
          "base_uri": "https://localhost:8080/"
        },
        "id": "v0IG_IkbQ6cF",
        "outputId": "0c24b0c0-f661-4558-c7ba-c629171fcf45"
      },
      "outputs": [
        {
          "output_type": "stream",
          "name": "stdout",
          "text": [
            "welcome to skill morph\n"
          ]
        }
      ],
      "source": [
        "print(\"welcome to skill morph\")"
      ]
    },
    {
      "cell_type": "code",
      "source": [],
      "metadata": {
        "id": "rJGwG-BjRjjz"
      },
      "execution_count": null,
      "outputs": []
    },
    {
      "cell_type": "code",
      "source": [
        "23+34\n"
      ],
      "metadata": {
        "colab": {
          "base_uri": "https://localhost:8080/"
        },
        "id": "DYGQaZlMSBTQ",
        "outputId": "6b0d5364-a741-4664-c87d-392485ceb200"
      },
      "execution_count": null,
      "outputs": [
        {
          "output_type": "execute_result",
          "data": {
            "text/plain": [
              "57"
            ]
          },
          "metadata": {},
          "execution_count": 2
        }
      ]
    },
    {
      "cell_type": "markdown",
      "source": [
        "# **\"chapter1\"**"
      ],
      "metadata": {
        "id": "ykG-9zx_SKju"
      }
    },
    {
      "cell_type": "markdown",
      "source": [
        "## **sub** **chapter**"
      ],
      "metadata": {
        "id": "8hmNbyvSSYIs"
      }
    },
    {
      "cell_type": "code",
      "source": [],
      "metadata": {
        "id": "t_N0DwMBSgAY"
      },
      "execution_count": null,
      "outputs": []
    }
  ]
}