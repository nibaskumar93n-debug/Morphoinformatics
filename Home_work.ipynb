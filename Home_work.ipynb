{
  "nbformat": 4,
  "nbformat_minor": 0,
  "metadata": {
    "colab": {
      "provenance": [],
      "toc_visible": true,
      "authorship_tag": "ABX9TyMYXJSp6NPbmKhqASAyaF2G",
      "include_colab_link": true
    },
    "kernelspec": {
      "name": "python3",
      "display_name": "Python 3"
    },
    "language_info": {
      "name": "python"
    }
  },
  "cells": [
    {
      "cell_type": "markdown",
      "metadata": {
        "id": "view-in-github",
        "colab_type": "text"
      },
      "source": [
        "<a href=\"https://colab.research.google.com/github/nibaskumar93n-debug/Morphoinformatics/blob/main/Home_work.ipynb\" target=\"_parent\"><img src=\"https://colab.research.google.com/assets/colab-badge.svg\" alt=\"Open In Colab\"/></a>"
      ]
    },
    {
      "cell_type": "markdown",
      "source": [
        "# **Home_work**"
      ],
      "metadata": {
        "id": "xI1BrY2bUQ67"
      }
    },
    {
      "cell_type": "markdown",
      "source": [],
      "metadata": {
        "id": "eeCrWrA_UvHJ"
      }
    },
    {
      "cell_type": "markdown",
      "source": [
        "## **2.1**"
      ],
      "metadata": {
        "id": "tweMUOynU2ux"
      }
    },
    {
      "cell_type": "code",
      "source": [
        "name = \"Nibas Kumar Pal\"\n",
        "age = 25\n",
        "fav_color = \"Blue\"\n",
        "print(\"My name is\", name)\n",
        "print(\"I am\", age,\"years old\")\n",
        "print(\"My favourite color is\",fav_color)"
      ],
      "metadata": {
        "colab": {
          "base_uri": "https://localhost:8080/"
        },
        "id": "OEl-cI0XU6hB",
        "outputId": "9041d0dd-d9b3-4746-d5ad-32ce48582ccd"
      },
      "execution_count": null,
      "outputs": [
        {
          "output_type": "stream",
          "name": "stdout",
          "text": [
            "My name is Nibas Kumar Pal\n",
            "I am 25 years old\n",
            "My favourite color is Blue\n"
          ]
        }
      ]
    },
    {
      "cell_type": "markdown",
      "source": [
        "## **2.2**"
      ],
      "metadata": {
        "id": "vD20x-rLWmyY"
      }
    },
    {
      "cell_type": "code",
      "source": [
        "Home_town = 'Rajshahi'\n",
        "age = 25\n",
        "price = 99.99\n",
        "not_know_python = True\n",
        "know_python = False\n",
        "result = None\n",
        "print(type(Home_town))\n",
        "print(type(age))\n",
        "print(type(price))\n",
        "print(type(not_know_python))\n",
        "print(type(know_python))\n",
        "print(type(result))"
      ],
      "metadata": {
        "colab": {
          "base_uri": "https://localhost:8080/"
        },
        "id": "ALU6d1psW6ik",
        "outputId": "18a5fe7d-4343-435a-8475-12800aa891ec"
      },
      "execution_count": null,
      "outputs": [
        {
          "output_type": "stream",
          "name": "stdout",
          "text": [
            "<class 'str'>\n",
            "<class 'int'>\n",
            "<class 'float'>\n",
            "<class 'bool'>\n",
            "<class 'bool'>\n",
            "<class 'NoneType'>\n"
          ]
        }
      ]
    },
    {
      "cell_type": "markdown",
      "source": [
        "## **2.3**"
      ],
      "metadata": {
        "id": "YHO1EinWc6i_"
      }
    },
    {
      "cell_type": "code",
      "source": [
        "# Area and perimeter of a rectangle..\n",
        "length_a=7\n",
        "width_b=5\n",
        "area= length_a* width_b\n",
        "perimeter= 2*(length_a + width_b)\n",
        "print(\" The area is:\", area, \"and the perimeter is:\",perimeter)\n"
      ],
      "metadata": {
        "id": "OzWzlKKEc9aZ",
        "colab": {
          "base_uri": "https://localhost:8080/"
        },
        "outputId": "34c90690-b6bc-438e-b81b-3f3f545e5a4f"
      },
      "execution_count": null,
      "outputs": [
        {
          "output_type": "stream",
          "name": "stdout",
          "text": [
            " The area is: 35 and the perimeter is: 24\n"
          ]
        }
      ]
    },
    {
      "cell_type": "markdown",
      "source": [
        "## **2.4**"
      ],
      "metadata": {
        "id": "pRM-LJ_czsrt"
      }
    },
    {
      "cell_type": "code",
      "source": [
        "# Creating a list\n",
        "foods = [\"paratha\", \"kachchi biryani\", \"morog polao\", \"bhuna khichuri\",\"daal\"]\n",
        "# Accessing elements (indexing starts at 0)\n",
        "print(foods[0])\n",
        "print(foods[4])\n",
        "# Negative indexing (counts from the end)\n",
        "print(foods[-2])\n",
        "# Slicing lists\n",
        "print(foods[2:4])\n",
        "# Changing an element\n",
        "foods[1] = \"Grilled Chicken\"\n",
        "print(foods)"
      ],
      "metadata": {
        "id": "eCgZzCsjzwMj",
        "colab": {
          "base_uri": "https://localhost:8080/"
        },
        "outputId": "a93d4ae1-8df2-4760-90e6-286179248cfb"
      },
      "execution_count": null,
      "outputs": [
        {
          "output_type": "stream",
          "name": "stdout",
          "text": [
            "paratha\n",
            "daal\n",
            "bhuna khichuri\n",
            "['morog polao', 'bhuna khichuri']\n",
            "['paratha', 'Grilled Chicken', 'morog polao', 'bhuna khichuri', 'daal']\n"
          ]
        }
      ]
    },
    {
      "cell_type": "markdown",
      "source": [
        "## **2.5**"
      ],
      "metadata": {
        "id": "h2p2bjgO5yqy"
      }
    },
    {
      "cell_type": "code",
      "source": [
        "num_list= [\"1\",\"2\",\"3\",\"4\",\"5\"]\n",
        "# adding\n",
        "num_list.append(\"6\") # add to end\n",
        "print(num_list)\n",
        "# removing\n",
        "num_list.remove(\"3\") # remove by value\n",
        "print(num_list)\n",
        "popped=num_list.pop() # remove and return the last item\n",
        "print(popped)\n",
        "print(num_list)\n",
        "# sorting\n",
        "num_list.sort()\n",
        "print(num_list)\n",
        "num_list.reverse()\n",
        "print(num_list)"
      ],
      "metadata": {
        "colab": {
          "base_uri": "https://localhost:8080/"
        },
        "id": "aQXZ2Znx6FMK",
        "outputId": "ad59ac43-a52b-4e66-dc6c-96d53f0ba31a"
      },
      "execution_count": null,
      "outputs": [
        {
          "output_type": "stream",
          "name": "stdout",
          "text": [
            "['1', '2', '3', '4', '5', '6']\n",
            "['1', '2', '4', '5', '6']\n",
            "6\n",
            "['1', '2', '4', '5']\n",
            "['1', '2', '4', '5']\n",
            "['5', '4', '2', '1']\n"
          ]
        }
      ]
    },
    {
      "cell_type": "markdown",
      "source": [
        "## **2.6**"
      ],
      "metadata": {
        "id": "KWHJRruH9jIR"
      }
    },
    {
      "cell_type": "code",
      "source": [
        "# Creating a dictionary\n",
        "nibas_kumar = {\n",
        "\"name\": \"nibas\",\n",
        "\"age\": 25,\n",
        "\"university\": \"RU\",\n",
        "\"courses\": [\"Python\", \"R\", \"Bioinformatics\",\"Data science\"]}\n",
        "# Accessing values using keys\n",
        "print(nibas_kumar[\"name\"])\n",
        "print(nibas_kumar[\"courses\"][2])\n",
        "print(nibas_kumar[\"university\"])\n",
        "print(nibas_kumar[\"age\"])\n",
        "# Adding or modifying items is possible..\n",
        "nibas_kumar[\"phone\"]= \"01744561811\"\n",
        "nibas_kumar[\"age\"] = 22\n",
        "print(nibas_kumar)"
      ],
      "metadata": {
        "colab": {
          "base_uri": "https://localhost:8080/"
        },
        "id": "E5TyTYaV9lW4",
        "outputId": "5a80cd50-e029-4d74-a97f-52d6b61c6941"
      },
      "execution_count": null,
      "outputs": [
        {
          "output_type": "stream",
          "name": "stdout",
          "text": [
            "nibas\n",
            "Bioinformatics\n",
            "RU\n",
            "25\n",
            "{'name': 'nibas', 'age': 22, 'university': 'RU', 'courses': ['Python', 'R', 'Bioinformatics', 'Data science'], 'phone': '01744561811'}\n"
          ]
        }
      ]
    },
    {
      "cell_type": "markdown",
      "source": [
        "## 2.7"
      ],
      "metadata": {
        "id": "dBO4aPLBBRZx"
      }
    },
    {
      "cell_type": "code",
      "source": [
        "# latitude and longitude of Pabna, Rajshahi, Bangladesh\n",
        "lat_lon=(24.006355, 89.249298)\n",
        "print(lat_lon)\n",
        "# acessing element\n",
        "print(lat_lon[1])\n",
        "# attempting change will cause error\n",
        "lat_lon[0]=28\n",
        "print(lat_lon)\n"
      ],
      "metadata": {
        "colab": {
          "base_uri": "https://localhost:8080/",
          "height": 245
        },
        "id": "OoJmTT3fBXiH",
        "outputId": "6b41e72c-b36c-48bc-90a3-d729c412aaff"
      },
      "execution_count": null,
      "outputs": [
        {
          "output_type": "stream",
          "name": "stdout",
          "text": [
            "(24.006355, 89.249298)\n",
            "42\n",
            "89.249298\n"
          ]
        },
        {
          "output_type": "error",
          "ename": "TypeError",
          "evalue": "'tuple' object does not support item assignment",
          "traceback": [
            "\u001b[0;31m---------------------------------------------------------------------------\u001b[0m",
            "\u001b[0;31mTypeError\u001b[0m                                 Traceback (most recent call last)",
            "\u001b[0;32m/tmp/ipython-input-494406621.py\u001b[0m in \u001b[0;36m<cell line: 0>\u001b[0;34m()\u001b[0m\n\u001b[1;32m      7\u001b[0m \u001b[0mprint\u001b[0m\u001b[0;34m(\u001b[0m\u001b[0mlat_lon\u001b[0m\u001b[0;34m[\u001b[0m\u001b[0;36m1\u001b[0m\u001b[0;34m]\u001b[0m\u001b[0;34m)\u001b[0m\u001b[0;34m\u001b[0m\u001b[0;34m\u001b[0m\u001b[0m\n\u001b[1;32m      8\u001b[0m \u001b[0;31m# attempting change will cause error\u001b[0m\u001b[0;34m\u001b[0m\u001b[0;34m\u001b[0m\u001b[0m\n\u001b[0;32m----> 9\u001b[0;31m \u001b[0mlat_lon\u001b[0m\u001b[0;34m[\u001b[0m\u001b[0;36m0\u001b[0m\u001b[0;34m]\u001b[0m\u001b[0;34m=\u001b[0m\u001b[0;36m28\u001b[0m\u001b[0;34m\u001b[0m\u001b[0;34m\u001b[0m\u001b[0m\n\u001b[0m\u001b[1;32m     10\u001b[0m \u001b[0mprint\u001b[0m\u001b[0;34m(\u001b[0m\u001b[0mlat_lon\u001b[0m\u001b[0;34m)\u001b[0m\u001b[0;34m\u001b[0m\u001b[0;34m\u001b[0m\u001b[0m\n",
            "\u001b[0;31mTypeError\u001b[0m: 'tuple' object does not support item assignment"
          ]
        }
      ]
    },
    {
      "cell_type": "markdown",
      "source": [
        "## **2.8**"
      ],
      "metadata": {
        "id": "O1Q1nu6VP1uP"
      }
    },
    {
      "cell_type": "code",
      "source": [
        "# Set operations\n",
        "col_set1 = {\"red\", \"green\", \"yellow\"}\n",
        "col_set2 = {\"purple\", \"magenta\", \"cyan\",\"red\"}\n",
        "# union\n",
        "all_cols=col_set1|col_set2\n",
        "print(all_cols)\n",
        "# intersection\n",
        "common_ele= col_set1 & col_set2\n",
        "print(common_ele)\n",
        "####\n",
        "col_set1.add(\"black\")\n",
        "print(col_set1)\n",
        "col_set1.discard(\"banana\")\n",
        "col_set1.update([\"grey\",\"navy\"])\n",
        "col_set1.update((\"pink\",\"tomatored\"),(\"redish\",\"silver\"),{\"gold\",\"copper\"})\n",
        "print(col_set1)\n"
      ],
      "metadata": {
        "colab": {
          "base_uri": "https://localhost:8080/"
        },
        "id": "l3dhyKWtP4xp",
        "outputId": "e6b294a9-56f1-4676-9db1-a4a1b78e876a"
      },
      "execution_count": null,
      "outputs": [
        {
          "output_type": "stream",
          "name": "stdout",
          "text": [
            "{'red', 'magenta', 'yellow', 'purple', 'green', 'cyan'}\n",
            "{'red'}\n",
            "{'black', 'green', 'red', 'yellow'}\n",
            "{'tomatored', 'grey', 'red', 'green', 'navy', 'gold', 'black', 'pink', 'redish', 'yellow', 'copper', 'silver'}\n"
          ]
        }
      ]
    },
    {
      "cell_type": "markdown",
      "source": [
        "## **2.9**"
      ],
      "metadata": {
        "id": "aplaHavccTV8"
      }
    },
    {
      "cell_type": "code",
      "source": [
        "# if-elif-else\n",
        "num = 98\n",
        "\n",
        "if num > 0:\n",
        "    print(\"The number is positive\")\n",
        "elif num < 0:\n",
        "    print(\"The number is negative\")\n",
        "else:\n",
        "    print(\"The number is zero\")"
      ],
      "metadata": {
        "colab": {
          "base_uri": "https://localhost:8080/"
        },
        "id": "_MuMGhFxcVL0",
        "outputId": "d0f74ec4-5298-4fc3-94d6-892583041912"
      },
      "execution_count": null,
      "outputs": [
        {
          "output_type": "stream",
          "name": "stdout",
          "text": [
            "The number is positive\n"
          ]
        }
      ]
    },
    {
      "cell_type": "markdown",
      "source": [
        "## **2.10**"
      ],
      "metadata": {
        "id": "5VMA5llrgSQc"
      }
    },
    {
      "cell_type": "code",
      "source": [
        "# Discount check\n",
        "age = int(input(\"Enter your age: \"))\n",
        "student_input = input(\"Are you a student? (yes/no): \")\n",
        "\n",
        "is_student = (student_input == \"yes\")\n",
        "\n",
        "\n",
        "if(is_student and age<25) or (age>60):\n",
        "  print(\"Eligible for discount\")\n",
        "else:\n",
        "  print(\"Not eligible for discount\")\n",
        "\n",
        "\n",
        "\n"
      ],
      "metadata": {
        "id": "wu33_RA7gUfd",
        "colab": {
          "base_uri": "https://localhost:8080/"
        },
        "outputId": "f4b88de3-78a0-4cdd-9846-6e41bc7581ba"
      },
      "execution_count": null,
      "outputs": [
        {
          "output_type": "stream",
          "name": "stdout",
          "text": [
            "Enter your age: 61\n",
            "Are you a student? (yes/no): yes\n",
            "Eligible for discount\n"
          ]
        }
      ]
    },
    {
      "cell_type": "markdown",
      "source": [
        "## **2.11**"
      ],
      "metadata": {
        "id": "VIMJTjZn2tYn"
      }
    },
    {
      "cell_type": "code",
      "source": [
        "for i in range(1,11):\n",
        "  print(i*2)\n",
        "\n",
        "# using while loop\n",
        "count=1\n",
        "even=2\n",
        "while count <11:\n",
        "  print(even,end=\"\")\n",
        "  even +=2\n",
        "  count +=1"
      ],
      "metadata": {
        "colab": {
          "base_uri": "https://localhost:8080/"
        },
        "id": "PBhvmDMq2wRA",
        "outputId": "ca573b0f-63e7-46b9-dcfa-b089dcec7444"
      },
      "execution_count": null,
      "outputs": [
        {
          "output_type": "stream",
          "name": "stdout",
          "text": [
            "2\n",
            "4\n",
            "6\n",
            "8\n",
            "10\n",
            "12\n",
            "14\n",
            "16\n",
            "18\n",
            "20\n",
            "2468101214161820"
          ]
        }
      ]
    },
    {
      "cell_type": "markdown",
      "source": [
        "## **2.12**"
      ],
      "metadata": {
        "id": "aHYG1_mDKvtt"
      }
    },
    {
      "cell_type": "code",
      "source": [
        "# Pyramid\n",
        "\n",
        "rows = 5\n",
        "\n",
        "for i in range(1, rows + 1):\n",
        "    print(\" \" * (rows - i) + \"*\" * (2 * i - 1))\n",
        "\n",
        "# Number pyramid\n",
        "\n",
        "rows = 5\n",
        "\n",
        "for i in range(1, rows + 1):\n",
        "    for j in range(rows - i):\n",
        "        print(\" \", end=\"\")\n",
        "    for k in range(1, i + 1):\n",
        "        print(k, end=\" \")\n",
        "\n",
        "    print()\n",
        "\n"
      ],
      "metadata": {
        "colab": {
          "base_uri": "https://localhost:8080/"
        },
        "id": "v1okyjW3K0Da",
        "outputId": "1ecb183c-3520-4689-bd76-b40b87ebff95"
      },
      "execution_count": null,
      "outputs": [
        {
          "output_type": "stream",
          "name": "stdout",
          "text": [
            "    *\n",
            "   ***\n",
            "  *****\n",
            " *******\n",
            "*********\n",
            "    1 \n",
            "   1 2 \n",
            "  1 2 3 \n",
            " 1 2 3 4 \n",
            "1 2 3 4 5 \n"
          ]
        }
      ]
    },
    {
      "cell_type": "markdown",
      "source": [
        "## **2.13**"
      ],
      "metadata": {
        "id": "P_3zS58HoPpr"
      }
    },
    {
      "cell_type": "code",
      "source": [
        "def cel_faren(cel_temp):\n",
        "  F= (cel_temp*(9/5))+32\n",
        "  return(F)\n",
        "Farenhit=cel_faren(80)\n",
        "print(Farenhit)"
      ],
      "metadata": {
        "colab": {
          "base_uri": "https://localhost:8080/"
        },
        "id": "Bq_eXEHzoSNr",
        "outputId": "0714f67c-5d2e-48da-a2ef-999abf131769"
      },
      "execution_count": null,
      "outputs": [
        {
          "output_type": "stream",
          "name": "stdout",
          "text": [
            "176.0\n"
          ]
        }
      ]
    },
    {
      "cell_type": "markdown",
      "source": [
        "## **2.14**"
      ],
      "metadata": {
        "id": "E8czQjNKuece"
      }
    },
    {
      "cell_type": "code",
      "source": [
        "def rectangle_area(length=5, width=3):\n",
        "    area=length*width\n",
        "    return area\n",
        "print(rectangle_area())\n",
        "print(rectangle_area(23,5))"
      ],
      "metadata": {
        "colab": {
          "base_uri": "https://localhost:8080/"
        },
        "id": "HlpzT8WLuhgF",
        "outputId": "53e8b962-8469-4224-81f1-43eeea380569"
      },
      "execution_count": null,
      "outputs": [
        {
          "output_type": "stream",
          "name": "stdout",
          "text": [
            "15\n",
            "115\n"
          ]
        }
      ]
    }
  ]
}